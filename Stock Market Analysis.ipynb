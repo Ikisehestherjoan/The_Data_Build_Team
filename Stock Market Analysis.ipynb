{
 "cells": [
  {
   "cell_type": "code",
   "execution_count": 37,
   "id": "153cae69-43f7-4aa0-9ee6-6a0806a0cd85",
   "metadata": {},
   "outputs": [],
   "source": [
    "import pandas as pd\n",
    "import requests"
   ]
  },
  {
   "cell_type": "code",
   "execution_count": 173,
   "id": "4d51fde3-e848-49ab-a69f-eeb03f315ed5",
   "metadata": {},
   "outputs": [],
   "source": [
    "\n",
    "params = {'outputsize':'full', 'extended_hours':'false', 'apikey':'IFBBUTAZ8NWO52MF', 'interval':'60min',\n",
    "          'function':'TIME_SERIES_INTRADAY', 'symbol':'AAPL', 'month':'2025-03'}\n",
    "\n",
    "url = 'https://www.alphavantage.co/query'\n",
    "r = requests.get(url, params =params)\n",
    "data = r.json()"
   ]
  },
  {
   "cell_type": "code",
   "execution_count": 175,
   "id": "0c1bc40f-51bd-4bdd-b9b6-e53ff8b5bf5d",
   "metadata": {},
   "outputs": [],
   "source": [
    "df = pd.DataFrame(data['Time Series (60min)']).T.reset_index()\n",
    "df['company'] = data['Meta Data']['2. Symbol']\n",
    "\n",
    "df.rename(columns= {'index': 'date', '1. open': 'open_price', '2. high': 'high_price', '3. low': 'low_price', \n",
    "'4. close': 'close_price', '5. volume': 'volume'}, inplace = True)"
   ]
  },
  {
   "cell_type": "code",
   "execution_count": 177,
   "id": "4de58d7c-ba11-4e80-8868-0b5d272ac17a",
   "metadata": {},
   "outputs": [
    {
     "data": {
      "text/html": [
       "<div>\n",
       "<style scoped>\n",
       "    .dataframe tbody tr th:only-of-type {\n",
       "        vertical-align: middle;\n",
       "    }\n",
       "\n",
       "    .dataframe tbody tr th {\n",
       "        vertical-align: top;\n",
       "    }\n",
       "\n",
       "    .dataframe thead th {\n",
       "        text-align: right;\n",
       "    }\n",
       "</style>\n",
       "<table border=\"1\" class=\"dataframe\">\n",
       "  <thead>\n",
       "    <tr style=\"text-align: right;\">\n",
       "      <th></th>\n",
       "      <th>date</th>\n",
       "      <th>open_price</th>\n",
       "      <th>high_price</th>\n",
       "      <th>low_price</th>\n",
       "      <th>close_price</th>\n",
       "      <th>volume</th>\n",
       "      <th>company</th>\n",
       "    </tr>\n",
       "  </thead>\n",
       "  <tbody>\n",
       "    <tr>\n",
       "      <th>0</th>\n",
       "      <td>2025-03-31 15:00:00</td>\n",
       "      <td>220.5700</td>\n",
       "      <td>225.6200</td>\n",
       "      <td>220.5500</td>\n",
       "      <td>221.9950</td>\n",
       "      <td>13747089</td>\n",
       "      <td>AAPL</td>\n",
       "    </tr>\n",
       "    <tr>\n",
       "      <th>1</th>\n",
       "      <td>2025-03-31 14:00:00</td>\n",
       "      <td>219.4900</td>\n",
       "      <td>221.2100</td>\n",
       "      <td>219.4550</td>\n",
       "      <td>220.5800</td>\n",
       "      <td>3432735</td>\n",
       "      <td>AAPL</td>\n",
       "    </tr>\n",
       "    <tr>\n",
       "      <th>2</th>\n",
       "      <td>2025-03-31 13:00:00</td>\n",
       "      <td>220.0900</td>\n",
       "      <td>220.7600</td>\n",
       "      <td>219.2400</td>\n",
       "      <td>219.4900</td>\n",
       "      <td>2666461</td>\n",
       "      <td>AAPL</td>\n",
       "    </tr>\n",
       "    <tr>\n",
       "      <th>3</th>\n",
       "      <td>2025-03-31 12:00:00</td>\n",
       "      <td>220.3600</td>\n",
       "      <td>221.0200</td>\n",
       "      <td>219.5600</td>\n",
       "      <td>220.1000</td>\n",
       "      <td>3195593</td>\n",
       "      <td>AAPL</td>\n",
       "    </tr>\n",
       "    <tr>\n",
       "      <th>4</th>\n",
       "      <td>2025-03-31 11:00:00</td>\n",
       "      <td>219.2800</td>\n",
       "      <td>220.5800</td>\n",
       "      <td>218.8852</td>\n",
       "      <td>220.3500</td>\n",
       "      <td>4599203</td>\n",
       "      <td>AAPL</td>\n",
       "    </tr>\n",
       "    <tr>\n",
       "      <th>...</th>\n",
       "      <td>...</td>\n",
       "      <td>...</td>\n",
       "      <td>...</td>\n",
       "      <td>...</td>\n",
       "      <td>...</td>\n",
       "      <td>...</td>\n",
       "      <td>...</td>\n",
       "    </tr>\n",
       "    <tr>\n",
       "      <th>121</th>\n",
       "      <td>2025-03-03 14:00:00</td>\n",
       "      <td>241.3100</td>\n",
       "      <td>242.0200</td>\n",
       "      <td>239.8800</td>\n",
       "      <td>240.2900</td>\n",
       "      <td>3501935</td>\n",
       "      <td>AAPL</td>\n",
       "    </tr>\n",
       "    <tr>\n",
       "      <th>122</th>\n",
       "      <td>2025-03-03 13:00:00</td>\n",
       "      <td>242.3100</td>\n",
       "      <td>242.3600</td>\n",
       "      <td>240.4400</td>\n",
       "      <td>241.3200</td>\n",
       "      <td>3802571</td>\n",
       "      <td>AAPL</td>\n",
       "    </tr>\n",
       "    <tr>\n",
       "      <th>123</th>\n",
       "      <td>2025-03-03 12:00:00</td>\n",
       "      <td>241.8100</td>\n",
       "      <td>242.9900</td>\n",
       "      <td>240.9464</td>\n",
       "      <td>242.3300</td>\n",
       "      <td>2510602</td>\n",
       "      <td>AAPL</td>\n",
       "    </tr>\n",
       "    <tr>\n",
       "      <th>124</th>\n",
       "      <td>2025-03-03 11:00:00</td>\n",
       "      <td>241.2300</td>\n",
       "      <td>242.6300</td>\n",
       "      <td>240.6650</td>\n",
       "      <td>241.8150</td>\n",
       "      <td>3209644</td>\n",
       "      <td>AAPL</td>\n",
       "    </tr>\n",
       "    <tr>\n",
       "      <th>125</th>\n",
       "      <td>2025-03-03 10:00:00</td>\n",
       "      <td>240.8400</td>\n",
       "      <td>242.4700</td>\n",
       "      <td>239.8250</td>\n",
       "      <td>241.2000</td>\n",
       "      <td>5078665</td>\n",
       "      <td>AAPL</td>\n",
       "    </tr>\n",
       "  </tbody>\n",
       "</table>\n",
       "<p>126 rows × 7 columns</p>\n",
       "</div>"
      ],
      "text/plain": [
       "                    date open_price high_price low_price close_price  \\\n",
       "0    2025-03-31 15:00:00   220.5700   225.6200  220.5500    221.9950   \n",
       "1    2025-03-31 14:00:00   219.4900   221.2100  219.4550    220.5800   \n",
       "2    2025-03-31 13:00:00   220.0900   220.7600  219.2400    219.4900   \n",
       "3    2025-03-31 12:00:00   220.3600   221.0200  219.5600    220.1000   \n",
       "4    2025-03-31 11:00:00   219.2800   220.5800  218.8852    220.3500   \n",
       "..                   ...        ...        ...       ...         ...   \n",
       "121  2025-03-03 14:00:00   241.3100   242.0200  239.8800    240.2900   \n",
       "122  2025-03-03 13:00:00   242.3100   242.3600  240.4400    241.3200   \n",
       "123  2025-03-03 12:00:00   241.8100   242.9900  240.9464    242.3300   \n",
       "124  2025-03-03 11:00:00   241.2300   242.6300  240.6650    241.8150   \n",
       "125  2025-03-03 10:00:00   240.8400   242.4700  239.8250    241.2000   \n",
       "\n",
       "       volume company  \n",
       "0    13747089    AAPL  \n",
       "1     3432735    AAPL  \n",
       "2     2666461    AAPL  \n",
       "3     3195593    AAPL  \n",
       "4     4599203    AAPL  \n",
       "..        ...     ...  \n",
       "121   3501935    AAPL  \n",
       "122   3802571    AAPL  \n",
       "123   2510602    AAPL  \n",
       "124   3209644    AAPL  \n",
       "125   5078665    AAPL  \n",
       "\n",
       "[126 rows x 7 columns]"
      ]
     },
     "execution_count": 177,
     "metadata": {},
     "output_type": "execute_result"
    }
   ],
   "source": [
    "df"
   ]
  },
  {
   "cell_type": "code",
   "execution_count": 155,
   "id": "cefef8f3-272e-418a-83d4-0acf5b5171e0",
   "metadata": {},
   "outputs": [],
   "source": [
    "#df.to_csv('StockData.csv')"
   ]
  },
  {
   "cell_type": "code",
   "execution_count": 147,
   "id": "47cac7f2-1cdf-4ddf-9e47-c919cbc1a016",
   "metadata": {},
   "outputs": [],
   "source": [
    "import os"
   ]
  },
  {
   "cell_type": "code",
   "execution_count": 153,
   "id": "a95224b8-455b-4f85-97c6-bb4740a9824c",
   "metadata": {},
   "outputs": [
    {
     "data": {
      "text/plain": [
       "'C:\\\\Users\\\\Motunrayo'"
      ]
     },
     "execution_count": 153,
     "metadata": {},
     "output_type": "execute_result"
    }
   ],
   "source": [
    "os.getcwd()"
   ]
  },
  {
   "cell_type": "code",
   "execution_count": null,
   "id": "4b1045f1-1445-48b2-b19d-d50b608e7f3d",
   "metadata": {},
   "outputs": [],
   "source": []
  }
 ],
 "metadata": {
  "kernelspec": {
   "display_name": "Python 3 (ipykernel)",
   "language": "python",
   "name": "python3"
  },
  "language_info": {
   "codemirror_mode": {
    "name": "ipython",
    "version": 3
   },
   "file_extension": ".py",
   "mimetype": "text/x-python",
   "name": "python",
   "nbconvert_exporter": "python",
   "pygments_lexer": "ipython3",
   "version": "3.12.4"
  }
 },
 "nbformat": 4,
 "nbformat_minor": 5
}
