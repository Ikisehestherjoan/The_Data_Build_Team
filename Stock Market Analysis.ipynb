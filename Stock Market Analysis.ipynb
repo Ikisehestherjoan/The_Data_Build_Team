{
 "cells": [
  {
   "cell_type": "code",
   "execution_count": 18,
   "id": "153cae69-43f7-4aa0-9ee6-6a0806a0cd85",
   "metadata": {},
   "outputs": [],
   "source": [
    "import pandas as pd\n",
    "import requests\n",
    "from datetime import datetime\n",
    "import json\n",
    "import io\n",
    "from minio import Minio\n",
    "from dateutil.relativedelta import relativedelta"
   ]
  },
  {
   "cell_type": "code",
   "execution_count": 24,
   "id": "935f13e9-d0e2-4e66-ba95-ddc0e3fc588b",
   "metadata": {},
   "outputs": [],
   "source": [
    "# Function to Setup MinIO client\n",
    "\n",
    "def set_up_minio(connection_str,access_key,secret_key, bucket_name):\n",
    "    client = Minio(\n",
    "        connection_str,\n",
    "        access_key=access_key,\n",
    "        secret_key=secret_key,\n",
    "        secure=False\n",
    "    )\n",
    "\n",
    "    # Ensure bucket exists\n",
    "    if not client.bucket_exists(bucket_name):\n",
    "        client.make_bucket(bucket_name)\n",
    "\n",
    "    return client\n"
   ]
  },
  {
   "cell_type": "code",
   "execution_count": 25,
   "id": "086fbeb2-9a45-493b-937d-d8833633640c",
   "metadata": {},
   "outputs": [],
   "source": [
    "# Function to get data from the api and pass to Minio\n",
    "def get_data(base_url, client, bucket_name, company_name, start_date, end_date):\n",
    "    \"\"\"\n",
    "    Download data in 'YYYY-MM' format for each month between start_date and end_date (inclusive),\n",
    "    and upload to MinIO.\n",
    "    \"\"\"\n",
    "    try:\n",
    "        # Parse dates\n",
    "        start = datetime.strptime(start_date, \"%Y-%m\")\n",
    "        end = datetime.strptime(end_date, \"%Y-%m\")\n",
    "        \n",
    "        if start > end:\n",
    "            raise ValueError(\"Start date must not be after end date.\")\n",
    "\n",
    "        current = start\n",
    "        while current <= end:\n",
    "            current_month = current.strftime(\"%Y-%m\")\n",
    "            params = {\n",
    "                'outputsize': 'full',\n",
    "                'extended_hours': 'false',\n",
    "                'apikey': 'IFBBUTAZ8NWO52MF',\n",
    "                'interval': '60min',\n",
    "                'function': 'TIME_SERIES_INTRADAY',\n",
    "                'symbol': company_name,\n",
    "                'month': current_month\n",
    "            }\n",
    "\n",
    "            response = requests.get(base_url, params=params)\n",
    "            try:\n",
    "                upload_to_minio(client, response.json(), bucket_name, current_month)\n",
    "            except Exception as e:\n",
    "                print(f\"Upload failed for {current_month}: {e}\")\n",
    "            \n",
    "            current += relativedelta(months=1)\n",
    "\n",
    "    except Exception as e:\n",
    "        print(f\"Error: {e}\")"
   ]
  },
  {
   "cell_type": "code",
   "execution_count": 26,
   "id": "3325dba4-666b-4fab-b1ab-50c58d5365af",
   "metadata": {},
   "outputs": [],
   "source": [
    "# Function to upload the json data to a minio bucket\n",
    "def upload_to_minio(client,data,bucket_name,file_path):\n",
    "\n",
    "    # Convert to bytes\n",
    "    data_bytes = io.BytesIO(json.dumps(data, indent=2).encode(\"utf-8\"))\n",
    "\n",
    "    object_path = f\"{bucket_name}/{file_path}\"\n",
    "    \n",
    "    # Upload to MinIO\n",
    "    client.put_object(\n",
    "        bucket_name,\n",
    "        object_path,\n",
    "        data_bytes,\n",
    "        length=len(data_bytes.getvalue()),\n",
    "        content_type=\"application/json\"\n",
    "    )\n"
   ]
  },
  {
   "cell_type": "code",
   "execution_count": 30,
   "id": "4d51fde3-e848-49ab-a69f-eeb03f315ed5",
   "metadata": {},
   "outputs": [],
   "source": [
    "# Main function that combines all the steps\n",
    "\n",
    "def main(company_list, connection_str, access_key, secret_key, bucket_name, start_date, end_date):\n",
    "    base_url = 'https://www.alphavantage.co/query'\n",
    "    \n",
    "    # Parse dates\n",
    "    start = datetime.strptime(start_date, \"%Y-%m\")\n",
    "    end = datetime.strptime(end_date, \"%Y-%m\")\n",
    "    \n",
    "    # Create a MinIO connection\n",
    "    client = set_up_minio(connection_str, access_key, secret_key, bucket_name)\n",
    "\n",
    "    # Get current data range if files already exist\n",
    "    min_date, max_date = get_current_file(client, bucket_name)\n",
    "\n",
    "    if min_date and max_date:\n",
    "        # Convert tuples like (2023, 4) to datetime\n",
    "        min_date_obj = datetime(min_date[0], min_date[1]-1, 1)\n",
    "        max_date_obj = datetime(max_date[0], max_date[1]+1, 1)\n",
    "\n",
    "        # Determine gaps before or after existing data\n",
    "        if min_date_obj > start:\n",
    "            new_end = min_date_obj.strftime(\"%Y-%m\")\n",
    "            for company_name in company_list:\n",
    "                get_data(base_url, client, bucket_name, company_name, start_date, new_end)\n",
    "\n",
    "        if max_date_obj < end:\n",
    "            new_start = max_date_obj.strftime(\"%Y-%m\")\n",
    "            for company_name in company_list:\n",
    "                get_data(base_url, client, bucket_name, company_name, new_start, end_date)\n",
    "\n",
    "    else:\n",
    "        # No file exists, get full range for all companies\n",
    "        for company_name in company_list:\n",
    "            get_data(base_url, client, bucket_name, company_name, start_date, end_date)\n",
    "    return \"Done!\"\n"
   ]
  },
  {
   "cell_type": "code",
   "execution_count": 35,
   "id": "75f64824-fde0-4b45-a241-fdc65aa3c308",
   "metadata": {},
   "outputs": [],
   "source": [
    "def get_current_file(client,bucket_name):\n",
    "\n",
    "    # list out all the files in the bucket\n",
    "    objects = client.list_objects(bucket_name,recursive=True)\n",
    "\n",
    "    # Extract the file names\n",
    "    file_names = [ os.path.basename(obj.object_name).split('.')[0] for obj in objects]\n",
    "\n",
    "    # convert file name to a tuple (year,month)\n",
    "    parsed_elements = [tuple(map(int,item.split('-'))) for item in file_names]\n",
    "\n",
    "    # Return min and max (Year, month)\n",
    "    if not parsed_elements or not parsed_elements:\n",
    "        return ([],[])\n",
    "    return min(parsed_elements),max(parsed_elements)"
   ]
  },
  {
   "cell_type": "code",
   "execution_count": 32,
   "id": "6460dfbc-0459-4334-8ac7-d435d829a642",
   "metadata": {},
   "outputs": [],
   "source": [
    "# Provide the inputs\n",
    "\n",
    "company_list = ['AAPL', 'IBM', 'MSFT']\n",
    "connection_str = \"localhost:9000\"\n",
    "access_key=\"mariam\"\n",
    "secret_key=\"mariam123\"\n",
    "bucket_name = \"stock-rawdata\"\n",
    "start_date = '2023-01'\n",
    "end_date = datetime.now().strftime(\"%Y-%m\")"
   ]
  },
  {
   "cell_type": "code",
   "execution_count": 36,
   "id": "b2345190-c122-4e69-8efe-a2ef0147bd36",
   "metadata": {},
   "outputs": [
    {
     "data": {
      "text/plain": [
       "'Done!'"
      ]
     },
     "execution_count": 36,
     "metadata": {},
     "output_type": "execute_result"
    }
   ],
   "source": [
    "# Run the main function\n",
    "main(company_list, connection_str, access_key, secret_key, bucket_name, start_date, end_date)"
   ]
  },
  {
   "cell_type": "code",
   "execution_count": null,
   "id": "0c1bc40f-51bd-4bdd-b9b6-e53ff8b5bf5d",
   "metadata": {},
   "outputs": [],
   "source": [
    "df = pd.DataFrame(data['Time Series (60min)']).T.reset_index()\n",
    "df['company'] = data['Meta Data']['2. Symbol']\n",
    "\n",
    "df.rename(columns= {'index': 'date', '1. open': 'open_price', '2. high': 'high_price', '3. low': 'low_price', \n",
    "'4. close': 'close_price', '5. volume': 'volume'}, inplace = True)"
   ]
  },
  {
   "cell_type": "code",
   "execution_count": null,
   "id": "4de58d7c-ba11-4e80-8868-0b5d272ac17a",
   "metadata": {},
   "outputs": [],
   "source": [
    "df"
   ]
  },
  {
   "cell_type": "code",
   "execution_count": null,
   "id": "cefef8f3-272e-418a-83d4-0acf5b5171e0",
   "metadata": {},
   "outputs": [],
   "source": [
    "#df.to_csv('StockData.csv')"
   ]
  },
  {
   "cell_type": "code",
   "execution_count": null,
   "id": "47cac7f2-1cdf-4ddf-9e47-c919cbc1a016",
   "metadata": {},
   "outputs": [],
   "source": [
    "import os"
   ]
  },
  {
   "cell_type": "code",
   "execution_count": null,
   "id": "a95224b8-455b-4f85-97c6-bb4740a9824c",
   "metadata": {},
   "outputs": [],
   "source": [
    "os.getcwd()"
   ]
  },
  {
   "cell_type": "code",
   "execution_count": null,
   "id": "4b1045f1-1445-48b2-b19d-d50b608e7f3d",
   "metadata": {},
   "outputs": [],
   "source": []
  }
 ],
 "metadata": {
  "kernelspec": {
   "display_name": "Python 3 (ipykernel)",
   "language": "python",
   "name": "python3"
  },
  "language_info": {
   "codemirror_mode": {
    "name": "ipython",
    "version": 3
   },
   "file_extension": ".py",
   "mimetype": "text/x-python",
   "name": "python",
   "nbconvert_exporter": "python",
   "pygments_lexer": "ipython3",
   "version": "3.12.4"
  }
 },
 "nbformat": 4,
 "nbformat_minor": 5
}
